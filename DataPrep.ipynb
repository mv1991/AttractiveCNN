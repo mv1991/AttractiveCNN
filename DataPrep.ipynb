{
 "cells": [
  {
   "cell_type": "markdown",
   "metadata": {},
   "source": [
    "## My first Convolutional neural network\n",
    "\n",
    "It took some time and most off all some awesome tutorials from pythonprogramming.net but I finally got my first CNN to work.\n",
    "\n",
    "I use the Celeb image dataset from Kaggle and decided to see if it is possible to train a neural network that will tell you if you are attractive or not. Do you dare to try it?"
   ]
  },
  {
   "cell_type": "code",
   "execution_count": 4,
   "metadata": {},
   "outputs": [
    {
     "name": "stdout",
     "output_type": "stream",
     "text": [
      "[[[[234]\n",
      "   [235]\n",
      "   [233]\n",
      "   ...\n",
      "   [165]\n",
      "   [157]\n",
      "   [163]]\n",
      "\n",
      "  [[236]\n",
      "   [234]\n",
      "   [234]\n",
      "   ...\n",
      "   [ 76]\n",
      "   [ 45]\n",
      "   [ 45]]\n",
      "\n",
      "  [[ 39]\n",
      "   [ 32]\n",
      "   [ 34]\n",
      "   ...\n",
      "   [ 87]\n",
      "   [ 85]\n",
      "   [ 99]]\n",
      "\n",
      "  ...\n",
      "\n",
      "  [[171]\n",
      "   [239]\n",
      "   [106]\n",
      "   ...\n",
      "   [179]\n",
      "   [177]\n",
      "   [175]]\n",
      "\n",
      "  [[252]\n",
      "   [160]\n",
      "   [179]\n",
      "   ...\n",
      "   [178]\n",
      "   [168]\n",
      "   [170]]\n",
      "\n",
      "  [[157]\n",
      "   [210]\n",
      "   [219]\n",
      "   ...\n",
      "   [180]\n",
      "   [170]\n",
      "   [169]]]]\n"
     ]
    }
   ],
   "source": [
    "import numpy as np\n",
    "import os\n",
    "import cv2\n",
    "\n",
    "\n",
    "DATADIR = \"C:\\\\Python projects\\\\Attractive\\\\Data\"\n",
    "\n",
    "CATEGORIES = [\"NotAttractive\",\"Attractive\"]\n",
    "\n",
    "for category in CATEGORIES:  \n",
    "    path = os.path.join(DATADIR,category)  \n",
    "    for img in os.listdir(path):  \n",
    "        img_array = cv2.imread(os.path.join(path,img) ,cv2.IMREAD_GRAYSCALE) \n",
    "\n",
    "\n",
    "        break  \n",
    "    break  \n",
    "\n",
    "IMG_SIZE = 50\n",
    "\n",
    "new_array = cv2.resize(img_array, (IMG_SIZE, IMG_SIZE))\n",
    "\n",
    "training_data = []\n",
    "\n",
    "def create_training_data():\n",
    "    for category in CATEGORIES:  \n",
    "\n",
    "        path = os.path.join(DATADIR,category)  \n",
    "        class_num = CATEGORIES.index(category)  \n",
    "\n",
    "        for img in os.listdir(path):  \n",
    "            try:\n",
    "                img_array = cv2.imread(os.path.join(path,img) ,cv2.IMREAD_GRAYSCALE)  \n",
    "                new_array = cv2.resize(img_array, (IMG_SIZE, IMG_SIZE))  \n",
    "                training_data.append([new_array, class_num])  \n",
    "            except Exception as e:  \n",
    "                pass\n",
    "\n",
    "\n",
    "create_training_data()\n",
    "\n",
    "import random\n",
    "\n",
    "random.shuffle(training_data)\n",
    "\n",
    "X = []\n",
    "y = []\n",
    "\n",
    "for features,label in training_data:\n",
    "    X.append(features)\n",
    "    y.append(label)\n",
    "\n",
    "\n",
    "\n",
    "X = np.array(X).reshape(-1, IMG_SIZE, IMG_SIZE, 1)\n",
    "\n",
    "import pickle\n",
    "\n",
    "pickle_out = open(\"X.pickle\",\"wb\")\n",
    "pickle.dump(X, pickle_out)\n",
    "pickle_out.close()\n",
    "\n",
    "pickle_out = open(\"y.pickle\",\"wb\")\n",
    "pickle.dump(y, pickle_out)\n",
    "pickle_out.close()"
   ]
  },
  {
   "cell_type": "code",
   "execution_count": 5,
   "metadata": {},
   "outputs": [
    {
     "name": "stdout",
     "output_type": "stream",
     "text": [
      "Epoch 1/3\n",
      "125/125 [==============================] - 18s 142ms/step - loss: 0.6716 - accuracy: 0.6008\n",
      "Epoch 2/3\n",
      "125/125 [==============================] - 17s 139ms/step - loss: 0.5730 - accuracy: 0.7013\n",
      "Epoch 3/3\n",
      "125/125 [==============================] - 18s 140ms/step - loss: 0.5210 - accuracy: 0.7423\n"
     ]
    },
    {
     "data": {
      "text/plain": [
       "<keras.callbacks.History at 0x1cc3f8b0370>"
      ]
     },
     "execution_count": 5,
     "metadata": {},
     "output_type": "execute_result"
    }
   ],
   "source": [
    "import tensorflow as tf\n",
    "from tensorflow.keras.models import Sequential\n",
    "from tensorflow.keras.layers import Dense, Activation, Flatten\n",
    "from tensorflow.keras.layers import Conv2D, MaxPooling2D\n",
    "from sklearn.model_selection import train_test_split\n",
    "\n",
    "import pickle\n",
    "\n",
    "pickle_in = open(\"X.pickle\",\"rb\")\n",
    "X = pickle.load(pickle_in)\n",
    "X = np.array(X)\n",
    "pickle_in = open(\"y.pickle\",\"rb\")\n",
    "y = pickle.load(pickle_in)\n",
    "\n",
    "X = X/255.0\n",
    "\n",
    "X_train, X_test, y_train, y_test = train_test_split(X, y, test_size=0.2)\n",
    "X_train = np.array(X_train)\n",
    "X_test = np.array(X_test)\n",
    "y_train = np.array(y_train)\n",
    "y_test = np.array(y_test)\n",
    "\n",
    "\n",
    "model = Sequential()\n",
    "\n",
    "model.add(Conv2D(256, (3, 3), input_shape=X.shape[1:]))\n",
    "model.add(Activation('relu'))\n",
    "model.add(MaxPooling2D(pool_size=(2, 2)))\n",
    "\n",
    "model.add(Conv2D(256, (3, 3)))\n",
    "model.add(Activation('relu'))\n",
    "model.add(MaxPooling2D(pool_size=(2, 2)))\n",
    "\n",
    "model.add(Flatten())  \n",
    "\n",
    "model.add(Dense(64))\n",
    "\n",
    "model.add(Dense(1))\n",
    "model.add(Activation('sigmoid'))\n",
    "\n",
    "model.compile(loss='binary_crossentropy',\n",
    "              optimizer='adam',\n",
    "              metrics=['accuracy'])\n",
    "\n",
    "model.fit(X_train, y_train, batch_size=32, epochs=3)"
   ]
  },
  {
   "cell_type": "code",
   "execution_count": 6,
   "metadata": {},
   "outputs": [
    {
     "name": "stdout",
     "output_type": "stream",
     "text": [
      "INFO:tensorflow:Assets written to: Attractive\\assets\n"
     ]
    }
   ],
   "source": [
    "model.save(\"Attractive\")"
   ]
  },
  {
   "cell_type": "code",
   "execution_count": 9,
   "metadata": {},
   "outputs": [
    {
     "name": "stdout",
     "output_type": "stream",
     "text": [
      "32/32 [==============================] - 1s 35ms/step - loss: 0.5117 - accuracy: 0.7473\n"
     ]
    },
    {
     "data": {
      "text/plain": [
       "[0.5116546154022217, 0.7472527623176575]"
      ]
     },
     "execution_count": 9,
     "metadata": {},
     "output_type": "execute_result"
    }
   ],
   "source": [
    "from keras.models import load_model\n",
    "model = load_model(\"Attractive\")\n",
    "model.evaluate(x=X_test, y=y_test)"
   ]
  }
 ],
 "metadata": {
  "interpreter": {
   "hash": "c56926cdf44dba2b48862d6a3a48be07948ec4f415edfa4fff35d268cadc244e"
  },
  "kernelspec": {
   "display_name": "Python 3.10.0 64-bit",
   "language": "python",
   "name": "python3"
  },
  "language_info": {
   "codemirror_mode": {
    "name": "ipython",
    "version": 3
   },
   "file_extension": ".py",
   "mimetype": "text/x-python",
   "name": "python",
   "nbconvert_exporter": "python",
   "pygments_lexer": "ipython3",
   "version": "3.10.0"
  },
  "orig_nbformat": 4
 },
 "nbformat": 4,
 "nbformat_minor": 2
}
