{
 "cells": [
  {
   "cell_type": "markdown",
   "metadata": {},
   "source": [
    "## My first Convolutional neural network\n",
    "\n",
    "It took some time and most off all some awesome tutorials from pythonprogramming.net but I finally got my first CNN to work.\n",
    "\n",
    "I use the Celeb image dataset from Kaggle and decided to see if it is possible to train a neural network that will tell you if you are attractive or not. Do you dare to try it?"
   ]
  },
  {
   "cell_type": "code",
   "execution_count": 1,
   "metadata": {},
   "outputs": [],
   "source": [
    "import numpy as np\n",
    "import os\n",
    "import cv2\n",
    "\n",
    "\n",
    "DATADIR = \"C:\\\\Python projects\\\\Attractive\\\\Data\"\n",
    "\n",
    "CATEGORIES = [\"NotAttractive\",\"Attractive\"]\n",
    "\n",
    "for category in CATEGORIES:  \n",
    "    path = os.path.join(DATADIR,category)  \n",
    "    for img in os.listdir(path):  \n",
    "        img_array = cv2.imread(os.path.join(path,img) ,cv2.IMREAD_GRAYSCALE) \n",
    "\n",
    "\n",
    "        break  \n",
    "    break  \n",
    "\n",
    "IMG_SIZE = 50\n",
    "\n",
    "new_array = cv2.resize(img_array, (IMG_SIZE, IMG_SIZE))\n",
    "\n",
    "training_data = []\n",
    "\n",
    "def create_training_data():\n",
    "    for category in CATEGORIES:  \n",
    "\n",
    "        path = os.path.join(DATADIR,category)  \n",
    "        class_num = CATEGORIES.index(category)  \n",
    "\n",
    "        for img in os.listdir(path):  \n",
    "            try:\n",
    "                img_array = cv2.imread(os.path.join(path,img) ,cv2.IMREAD_GRAYSCALE)  \n",
    "                new_array = cv2.resize(img_array, (IMG_SIZE, IMG_SIZE))  \n",
    "                training_data.append([new_array, class_num])  \n",
    "            except Exception as e:  \n",
    "                pass\n",
    "\n",
    "\n",
    "create_training_data()\n",
    "\n",
    "import random\n",
    "\n",
    "random.shuffle(training_data)\n",
    "\n",
    "X = []\n",
    "y = []\n",
    "\n",
    "for features,label in training_data:\n",
    "    X.append(features)\n",
    "    y.append(label)\n",
    "\n",
    "\n",
    "\n",
    "X = np.array(X).reshape(-1, IMG_SIZE, IMG_SIZE, 1)\n",
    "\n",
    "import pickle\n",
    "\n",
    "pickle_out = open(\"X.pickle\",\"wb\")\n",
    "pickle.dump(X, pickle_out)\n",
    "pickle_out.close()\n",
    "\n",
    "pickle_out = open(\"y.pickle\",\"wb\")\n",
    "pickle.dump(y, pickle_out)\n",
    "pickle_out.close()"
   ]
  },
  {
   "cell_type": "code",
   "execution_count": 2,
   "metadata": {},
   "outputs": [
    {
     "name": "stdout",
     "output_type": "stream",
     "text": [
      "Epoch 1/8\n",
      "125/125 [==============================] - 18s 141ms/step - loss: 0.6468 - accuracy: 0.6345\n",
      "Epoch 2/8\n",
      "125/125 [==============================] - 18s 140ms/step - loss: 0.5449 - accuracy: 0.7295\n",
      "Epoch 3/8\n",
      "125/125 [==============================] - 18s 142ms/step - loss: 0.5315 - accuracy: 0.7380\n",
      "Epoch 4/8\n",
      "125/125 [==============================] - 18s 143ms/step - loss: 0.4939 - accuracy: 0.7657\n",
      "Epoch 5/8\n",
      "125/125 [==============================] - 18s 142ms/step - loss: 0.4792 - accuracy: 0.7707\n",
      "Epoch 6/8\n",
      "125/125 [==============================] - 18s 144ms/step - loss: 0.4628 - accuracy: 0.7825\n",
      "Epoch 7/8\n",
      "125/125 [==============================] - 17s 140ms/step - loss: 0.4455 - accuracy: 0.7885\n",
      "Epoch 8/8\n",
      "125/125 [==============================] - 18s 144ms/step - loss: 0.4242 - accuracy: 0.8018\n"
     ]
    },
    {
     "data": {
      "text/plain": [
       "<keras.callbacks.History at 0x20481ebcc10>"
      ]
     },
     "execution_count": 2,
     "metadata": {},
     "output_type": "execute_result"
    }
   ],
   "source": [
    "import tensorflow as tf\n",
    "from tensorflow.keras.models import Sequential\n",
    "from tensorflow.keras.layers import Dense, Activation, Flatten\n",
    "from tensorflow.keras.layers import Conv2D, MaxPooling2D\n",
    "from sklearn.model_selection import train_test_split\n",
    "\n",
    "import pickle\n",
    "\n",
    "pickle_in = open(\"X.pickle\",\"rb\")\n",
    "X = pickle.load(pickle_in)\n",
    "X = np.array(X)\n",
    "pickle_in = open(\"y.pickle\",\"rb\")\n",
    "y = pickle.load(pickle_in)\n",
    "\n",
    "X = X/255.0\n",
    "\n",
    "X_train, X_test, y_train, y_test = train_test_split(X, y, test_size=0.2)\n",
    "X_train = np.array(X_train)\n",
    "X_test = np.array(X_test)\n",
    "y_train = np.array(y_train)\n",
    "y_test = np.array(y_test)\n",
    "\n",
    "\n",
    "model = Sequential()\n",
    "\n",
    "model.add(Conv2D(256, (3, 3), input_shape=X.shape[1:]))\n",
    "model.add(Activation('relu'))\n",
    "model.add(MaxPooling2D(pool_size=(2, 2)))\n",
    "\n",
    "model.add(Conv2D(256, (3, 3)))\n",
    "model.add(Activation('relu'))\n",
    "model.add(MaxPooling2D(pool_size=(2, 2)))\n",
    "\n",
    "model.add(Flatten())  \n",
    "\n",
    "model.add(Dense(64))\n",
    "\n",
    "model.add(Dense(1))\n",
    "model.add(Activation('sigmoid'))\n",
    "\n",
    "model.compile(loss='binary_crossentropy',\n",
    "              optimizer='adam',\n",
    "              metrics=['accuracy'])\n",
    "\n",
    "model.fit(X_train, y_train, batch_size=32, epochs=8)"
   ]
  },
  {
   "cell_type": "markdown",
   "metadata": {},
   "source": [
    "The accuracy seems to stabelize after 6 epochs but takes a small jump in the last one"
   ]
  },
  {
   "cell_type": "code",
   "execution_count": 3,
   "metadata": {},
   "outputs": [
    {
     "name": "stdout",
     "output_type": "stream",
     "text": [
      "INFO:tensorflow:Assets written to: Attractive\\assets\n"
     ]
    }
   ],
   "source": [
    "model.save(\"Attractive\")"
   ]
  },
  {
   "cell_type": "code",
   "execution_count": 4,
   "metadata": {},
   "outputs": [
    {
     "name": "stdout",
     "output_type": "stream",
     "text": [
      "32/32 [==============================] - 1s 36ms/step - loss: 0.5603 - accuracy: 0.7323\n"
     ]
    },
    {
     "data": {
      "text/plain": [
       "[0.5602554082870483, 0.7322677373886108]"
      ]
     },
     "execution_count": 4,
     "metadata": {},
     "output_type": "execute_result"
    }
   ],
   "source": [
    "from keras.models import load_model\n",
    "model = load_model(\"Attractive\")\n",
    "model.evaluate(x=X_test, y=y_test)"
   ]
  },
  {
   "cell_type": "markdown",
   "metadata": {},
   "source": [
    "As expected the accuracy in the evaluation is slightly lower."
   ]
  }
 ],
 "metadata": {
  "interpreter": {
   "hash": "c56926cdf44dba2b48862d6a3a48be07948ec4f415edfa4fff35d268cadc244e"
  },
  "kernelspec": {
   "display_name": "Python 3.10.0 64-bit",
   "language": "python",
   "name": "python3"
  },
  "language_info": {
   "codemirror_mode": {
    "name": "ipython",
    "version": 3
   },
   "file_extension": ".py",
   "mimetype": "text/x-python",
   "name": "python",
   "nbconvert_exporter": "python",
   "pygments_lexer": "ipython3",
   "version": "3.10.0"
  },
  "orig_nbformat": 4
 },
 "nbformat": 4,
 "nbformat_minor": 2
}
